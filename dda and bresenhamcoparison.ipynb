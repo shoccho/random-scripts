{
 "cells": [
  {
   "cell_type": "code",
   "execution_count": 1,
   "metadata": {
    "id": "DeaZrd-Qdvor"
   },
   "outputs": [],
   "source": [
    "import matplotlib.pyplot as plt\n",
    "%matplotlib inline"
   ]
  },
  {
   "cell_type": "code",
   "execution_count": 2,
   "metadata": {
    "id": "OXNcoDMCd1v2"
   },
   "outputs": [],
   "source": [
    "def mkp(x):\n",
    "    if (x*10)%10 >= 5:\n",
    "        px=int(x)+1\n",
    "    else :\n",
    "        px=int(x)\n",
    "    return px"
   ]
  },
  {
   "cell_type": "code",
   "execution_count": 3,
   "metadata": {
    "id": "XJJFPzoid8nO"
   },
   "outputs": [],
   "source": [
    "def showfig(pltx,plty,label):\n",
    "    fig, ax = plt.subplots()\n",
    "    ax.spines[\"left\"].set_position((\"data\", 0))\n",
    "    ax.spines[\"bottom\"].set_position((\"data\", 0))\n",
    " \n",
    "    ax.spines[\"top\"].set_visible(False)\n",
    "    ax.spines[\"right\"].set_visible(False)\n",
    " \n",
    "    plt.plot(pltx,plty, label=label)\n",
    "    plt.xlim(-50, 50)\n",
    "    plt.ylim(-50, 50)\n",
    "    plt.grid()\n",
    "    plt.show()"
   ]
  },
  {
   "cell_type": "code",
   "execution_count": 4,
   "metadata": {
    "id": "pznwM5AfWJvF"
   },
   "outputs": [],
   "source": [
    "def dda(m,sx,sy,ex,ey):\n",
    "    x, y = sx, sy\n",
    "    pltx = []\n",
    "    plty = []\n",
    "    if m <= 1:\n",
    "        dx = 1\n",
    "        dy = m\n",
    "      \n",
    "    elif m > 1:\n",
    "        dy = 1\n",
    "        dx = 1/m\n",
    "    \n",
    "    if sx > ex:\n",
    "        dx = -1*dx\n",
    "        dy = -1*dy\n",
    "    print(\"m={0:.2f} Dx = {1:.2f} Dy = {2:.2f} \".format(m,dx,dy))\n",
    "    print(\"x\\ty\\t\\tx plot\\ty plot\\t\\t(x, y)\")\n",
    "  \n",
    "    while True:\n",
    "        \n",
    "        px=mkp(x)\n",
    "        py=mkp(y)\n",
    "        pltx.append(px)\n",
    "        plty.append(py)\n",
    "        \n",
    "        print(\"{0}\\t{1:.2f}\\t\\t{2}\\t{3}\\t\\t({2}, {3})\".format(x,y,px,py))\n",
    "        x += dx\n",
    "        y += dy\n",
    "        if px==ex and py==ey:\n",
    "            break\n",
    "    return (pltx,plty)"
   ]
  },
  {
   "cell_type": "code",
   "execution_count": 6,
   "metadata": {
    "id": "kC9s0044eInn"
   },
   "outputs": [],
   "source": [
    "def Bresenham(m,sx,sy,ex,ey):\n",
    "    p = 0\n",
    "    if m<0:\n",
    "        print(\"I cannot do this !\")\n",
    "        return\n",
    "    if m<=1:\n",
    "        p = 2 * (ey-sy) - (ex-sx)\n",
    "    else :\n",
    "        p = 2 * (ex-sx) - (ey-sy)\n",
    "    nx=sx;\n",
    "    ny=sy;\n",
    "    print(\"K\\t (Xk, Yk)\\t Pk\\t (Xk+1,Yk+1)\")\n",
    "    i=0;\n",
    "    npltx=[]\n",
    "    nplty=[]\n",
    "   \n",
    "    while(True):\n",
    "        npltx.append(nx)\n",
    "        nplty.append(ny)\n",
    "        if(nx==ex and ny==ey):\n",
    "            break;\n",
    "\n",
    "        \n",
    "        if m<=1:\n",
    "            if p<=0 :\n",
    "                xk = nx+1\n",
    "                yk = ny\n",
    "            else:\n",
    "                yk = ny+1\n",
    "                xk = nx+1\n",
    "        else:\n",
    "            if p<=0 :\n",
    "                xk = nx\n",
    "                yk = ny+1\n",
    "            else:\n",
    "                yk = ny+1\n",
    "                xk = nx+1\n",
    "        print(\"{0}\\t ({1}, {2})\\t {3}\\t ({4},{5})\".format(i,nx,ny,p,xk,yk))\n",
    "        if m<=1:\n",
    "            p = p + 2 * (ey-sy) - 2 * (ex-sx) * (yk-ny)\n",
    "        else:\n",
    "            p = p + 2 * (ey-sy) - 2 * (ex-sx) * (xk-nx)\n",
    "\n",
    "        nx = xk\n",
    "        ny = yk\n",
    "        i+=1\n",
    "    return (npltx,nplty)\n"
   ]
  },
  {
   "cell_type": "markdown",
   "metadata": {
    "id": "6aIoeFDjbK0V"
   },
   "source": [
    "# ** Main funciton here!!! **\n"
   ]
  },
  {
   "cell_type": "code",
   "execution_count": 11,
   "metadata": {
    "colab": {
     "base_uri": "https://localhost:8080/",
     "height": 1000
    },
    "id": "cWqrVPUXeBAk",
    "outputId": "202eabe7-7b76-45f1-bf6b-8cd83bf97894"
   },
   "outputs": [
    {
     "name": "stdout",
     "output_type": "stream",
     "text": [
      "enter starting x -4\n",
      "enter starting y -5\n",
      "enter ending x 5\n",
      "enter ending y 3\n",
      "0.8888888888888888\n",
      "-----------------------------------DDA----------------------------------\n",
      "m=0.89 Dx = 1.00 Dy = 0.89 \n",
      "x\ty\t\tx plot\ty plot\t\t(x, y)\n",
      "-4\t-5.00\t\t-4\t-5\t\t(-4, -5)\n",
      "-3\t-4.11\t\t-3\t-3\t\t(-3, -3)\n",
      "-2\t-3.22\t\t-2\t-2\t\t(-2, -2)\n",
      "-1\t-2.33\t\t-1\t-1\t\t(-1, -1)\n",
      "0\t-1.44\t\t0\t0\t\t(0, 0)\n",
      "1\t-0.56\t\t1\t0\t\t(1, 0)\n",
      "2\t0.33\t\t2\t0\t\t(2, 0)\n",
      "3\t1.22\t\t3\t1\t\t(3, 1)\n",
      "4\t2.11\t\t4\t2\t\t(4, 2)\n",
      "5\t3.00\t\t5\t3\t\t(5, 3)\n",
      "-----------------------------------Bresenham--------------------------------\n",
      "K\t (Xk, Yk)\t Pk\t (Xk+1,Yk+1)\n",
      "0\t (-4, -5)\t 7\t (-3,-4)\n",
      "1\t (-3, -4)\t 5\t (-2,-3)\n",
      "2\t (-2, -3)\t 3\t (-1,-2)\n",
      "3\t (-1, -2)\t 1\t (0,-1)\n",
      "4\t (0, -1)\t -1\t (1,-1)\n",
      "5\t (1, -1)\t 15\t (2,0)\n",
      "6\t (2, 0)\t 13\t (3,1)\n",
      "7\t (3, 1)\t 11\t (4,2)\n",
      "8\t (4, 2)\t 9\t (5,3)\n"
     ]
    }
   ],
   "source": [
    "\n",
    "sx = int(input(\"enter starting x \"))\n",
    "sy = int(input(\"enter starting y \"))\n",
    "ex = int(input(\"enter ending x \"))\n",
    "ey = int(input(\"enter ending y \"))\n",
    "m =((ey-sy)/(ex-sx))\n",
    "print(m)\n",
    "print(\"-----------------------------------DDA----------------------------------\")\n",
    "dd = dda(m,sx,sy,ex,ey)\n",
    "print(\"-----------------------------------Bresenham--------------------------------\")\n",
    "bas = Bresenham(m,sx,sy,ex,ey)\n"
   ]
  },
  {
   "cell_type": "code",
   "execution_count": 8,
   "metadata": {
    "id": "HcTU3F0lo1df"
   },
   "outputs": [
    {
     "data": {
      "text/plain": [
       "10"
      ]
     },
     "execution_count": 8,
     "metadata": {},
     "output_type": "execute_result"
    }
   ],
   "source": [
    "ey-sy"
   ]
  },
  {
   "cell_type": "code",
   "execution_count": 9,
   "metadata": {
    "id": "8xMmpumjTsEo"
   },
   "outputs": [
    {
     "data": {
      "image/png": "[encoded data removed]",
      "text/plain": [
       "<Figure size 432x288 with 1 Axes>"
      ]
     },
     "metadata": {
      "needs_background": "light"
     },
     "output_type": "display_data"
    }
   ],
   "source": [
    "#plt.plot(dd[0],dd[1],'C1', label=\"DDA\")\n",
    "plt.plot(bas[0],bas[1],'C2', label=\"Bresenham\")\n",
    "\n",
    "\n",
    "#plt.xlim(00, 500)\n",
    "#plt.ylim(00, 500)\n",
    "plt.grid()\n",
    "#plt.legend([\"DDA\", \"Bresenham\"])\n",
    "plt.show()"
   ]
  },
  {
   "cell_type": "code",
   "execution_count": null,
   "metadata": {
    "id": "IAXyBsiiYeI9"
   },
   "outputs": [],
   "source": [
    "#does not make any difference!"
   ]
  }
 ],
 "metadata": {
  "colab": {
   "collapsed_sections": [],
   "name": "DDA",
   "provenance": []
  },
  "kernelspec": {
   "display_name": "Python 3",
   "language": "python",
   "name": "python3"
  },
  "language_info": {
   "codemirror_mode": {
    "name": "ipython",
    "version": 3
   },
   "file_extension": ".py",
   "mimetype": "text/x-python",
   "name": "python",
   "nbconvert_exporter": "python",
   "pygments_lexer": "ipython3",
   "version": "3.8.5"
  }
 },
 "nbformat": 4,
 "nbformat_minor": 1
}
