{
 "cells": [
  {
   "cell_type": "markdown",
   "metadata": {},
   "source": [
    "#  Middle point circle drawing"
   ]
  },
  {
   "cell_type": "code",
   "execution_count": 1,
   "metadata": {},
   "outputs": [],
   "source": [
    "import matplotlib.pyplot as plt\n",
    "%matplotlib inline\n",
    "import numpy as np"
   ]
  },
  {
   "cell_type": "code",
   "execution_count": 2,
   "metadata": {},
   "outputs": [],
   "source": [
    "def circle(r):\n",
    "    px=[]\n",
    "    py=[]\n",
    "    p = 1 - r \n",
    "    x = 0\n",
    "    y = r\n",
    "    i=0\n",
    "    print(\"K\\t (X,Y)\\t\\t Pk\\t \\t(Xk+1, Yk+1) \")\n",
    "    xk, yk = x, y\n",
    "    while x < y:\n",
    "        print(\"{0}\\t ({1}, {2})\\t {3}\\t \".format(i,x,y,p),end=\"\\t\")\n",
    "        i+=1\n",
    "        px.append(x)\n",
    "        py.append(y)\n",
    "        if p >= 0:\n",
    "            xk+=1\n",
    "            yk-=1\n",
    "        else:\n",
    "            xk+=1\n",
    "        p=p+(2*xk+1)+((yk)*(yk)-y*y)-(yk-y)\n",
    "        x, y = xk, yk \n",
    "        print(xk,yk)\n",
    "    return (px,py)"
   ]
  },
  {
   "cell_type": "code",
   "execution_count": 3,
   "metadata": {},
   "outputs": [
    {
     "name": "stdout",
     "output_type": "stream",
     "text": [
      "K\t (X,Y)\t\t Pk\t \t(Xk+1, Yk+1) \n",
      "0\t (0, 10)\t -9\t \t1 10\n",
      "1\t (1, 10)\t -6\t \t2 10\n",
      "2\t (2, 10)\t -1\t \t3 10\n",
      "3\t (3, 10)\t 6\t \t4 9\n",
      "4\t (4, 9)\t -3\t \t5 9\n",
      "5\t (5, 9)\t 8\t \t6 8\n",
      "6\t (6, 8)\t 5\t \t7 7\n"
     ]
    }
   ],
   "source": [
    "px,py = circle(10)\n",
    "px=np.array(px)\n",
    "py=np.array(py)\n"
   ]
  },
  {
   "cell_type": "code",
   "execution_count": 30,
   "metadata": {},
   "outputs": [
    {
     "data": {
      "image/png": "[encoded data removed]",
      "text/plain": [
       "<Figure size 432x288 with 1 Axes>"
      ]
     },
     "metadata": {
      "needs_background": "light"
     },
     "output_type": "display_data"
    }
   ],
   "source": [
    "plt.plot(px,py)\n",
    "plt.plot(px,-py)\n",
    "plt.plot(-px,py)\n",
    "plt.plot(-px,-py)\n",
    "plt.plot(py,px)\n",
    "plt.plot(-py,px)\n",
    "plt.plot(py,-px)\n",
    "plt.plot(-py,-px)\n",
    "\n",
    "plt.grid()\n",
    "# plt.xlim(-1300,1300)\n",
    "# plt.ylim(-1500,1500)\n",
    "plt.gca().set_aspect('equal', adjustable='box')\n",
    "plt.show()\n"
   ]
  },
  {
   "cell_type": "code",
   "execution_count": 4,
   "metadata": {},
   "outputs": [
    {
     "data": {
      "text/plain": [
       "array([-12, -11, -10,  -9,  -8,  -7,  -6])"
      ]
     },
     "execution_count": 4,
     "metadata": {},
     "output_type": "execute_result"
    }
   ],
   "source": [
    " px-12\n"
   ]
  },
  {
   "cell_type": "code",
   "execution_count": 5,
   "metadata": {},
   "outputs": [
    {
     "data": {
      "text/plain": [
       "array([33, 33, 33, 33, 32, 32, 31])"
      ]
     },
     "execution_count": 5,
     "metadata": {},
     "output_type": "execute_result"
    }
   ],
   "source": [
    "py+23"
   ]
  },
  {
   "cell_type": "code",
   "execution_count": null,
   "metadata": {},
   "outputs": [],
   "source": []
  }
 ],
 "metadata": {
  "kernelspec": {
   "display_name": "Python 3",
   "language": "python",
   "name": "python3"
  },
  "language_info": {
   "codemirror_mode": {
    "name": "ipython",
    "version": 3
   },
   "file_extension": ".py",
   "mimetype": "text/x-python",
   "name": "python",
   "nbconvert_exporter": "python",
   "pygments_lexer": "ipython3",
   "version": "3.8.5"
  }
 },
 "nbformat": 4,
 "nbformat_minor": 4
}
