{
  "nbformat": 4,
  "nbformat_minor": 0,
  "metadata": {
    "colab": {
      "name": "glcolorgenerator.ipynb",
      "provenance": [],
      "collapsed_sections": [],
      "authorship_tag": "ABX9TyPuYN5FM0GP+LCC+kpbcuvO",
      "include_colab_link": true
    },
    "kernelspec": {
      "name": "python3",
      "display_name": "Python 3"
    },
    "widgets": {
      "application/vnd.jupyter.widget-state+json": {
        "6dd4efd931c74af28031bf0f1aabea9e": {
          "model_module": "@jupyter-widgets/controls",
          "model_name": "ColorPickerModel",
          "state": {
            "_view_name": "ColorPickerView",
            "style": "IPY_MODEL_30b3458cc7d84caf8084fc959be7b2de",
            "_dom_classes": [],
            "description": "Pick a color",
            "_model_name": "ColorPickerModel",
            "_view_module": "@jupyter-widgets/controls",
            "_model_module_version": "1.5.0",
            "value": "#45457d",
            "_view_count": null,
            "disabled": false,
            "_view_module_version": "1.5.0",
            "description_tooltip": null,
            "_model_module": "@jupyter-widgets/controls",
            "concise": false,
            "layout": "IPY_MODEL_bb44b6c071694c0686177e5b65e35809"
          }
        },
        "30b3458cc7d84caf8084fc959be7b2de": {
          "model_module": "@jupyter-widgets/controls",
          "model_name": "DescriptionStyleModel",
          "state": {
            "_view_name": "StyleView",
            "_model_name": "DescriptionStyleModel",
            "description_width": "",
            "_view_module": "@jupyter-widgets/base",
            "_model_module_version": "1.5.0",
            "_view_count": null,
            "_view_module_version": "1.2.0",
            "_model_module": "@jupyter-widgets/controls"
          }
        },
        "bb44b6c071694c0686177e5b65e35809": {
          "model_module": "@jupyter-widgets/base",
          "model_name": "LayoutModel",
          "state": {
            "_view_name": "LayoutView",
            "grid_template_rows": null,
            "right": null,
            "justify_content": null,
            "_view_module": "@jupyter-widgets/base",
            "overflow": null,
            "_model_module_version": "1.2.0",
            "_view_count": null,
            "flex_flow": null,
            "width": null,
            "min_width": null,
            "border": null,
            "align_items": null,
            "bottom": null,
            "_model_module": "@jupyter-widgets/base",
            "top": null,
            "grid_column": null,
            "overflow_y": null,
            "overflow_x": null,
            "grid_auto_flow": null,
            "grid_area": null,
            "grid_template_columns": null,
            "flex": null,
            "_model_name": "LayoutModel",
            "justify_items": null,
            "grid_row": null,
            "max_height": null,
            "align_content": null,
            "visibility": null,
            "align_self": null,
            "height": null,
            "min_height": null,
            "padding": null,
            "grid_auto_rows": null,
            "grid_gap": null,
            "max_width": null,
            "order": null,
            "_view_module_version": "1.2.0",
            "grid_template_areas": null,
            "object_position": null,
            "object_fit": null,
            "grid_auto_columns": null,
            "margin": null,
            "display": null,
            "left": null
          }
        }
      }
    }
  },
  "cells": [
    {
      "cell_type": "markdown",
      "metadata": {
        "id": "view-in-github",
        "colab_type": "text"
      },
      "source": [
        "<a href=\"https://colab.research.google.com/github/shoccho/random-scripts/blob/master/glcolorgenerator.ipynb\" target=\"_parent\"><img src=\"https://colab.research.google.com/assets/colab-badge.svg\" alt=\"Open In Colab\"/></a>"
      ]
    },
    {
      "cell_type": "markdown",
      "metadata": {
        "id": "7qK-3wpl7yX1"
      },
      "source": [
        "## Main function"
      ]
    },
    {
      "cell_type": "code",
      "metadata": {
        "id": "M_7w-ro528au"
      },
      "source": [
        "def convert(code):\n",
        "  code=code.strip('#')\n",
        "  \n",
        "  values=[]\n",
        "  # print(code)\n",
        "  for i in range(0,len(code.strip()),2):\n",
        "    # print(code[i:i+2])\n",
        "    values.append((  int(code[i:i+2],16)/255))\n",
        "  # print(values)\n",
        "  s = \"glColor3f({:.2f}f,{:.2f}f,{:.2f}f);\".format(values[0],values[1],values[2])\n",
        "  print(s)\n"
      ],
      "execution_count": 36,
      "outputs": []
    },
    {
      "cell_type": "markdown",
      "metadata": {
        "id": "Sak4xBzM726b"
      },
      "source": [
        "## Run this for a color picker"
      ]
    },
    {
      "cell_type": "code",
      "metadata": {
        "colab": {
          "base_uri": "https://localhost:8080/",
          "height": 49,
          "referenced_widgets": [
            "6dd4efd931c74af28031bf0f1aabea9e",
            "30b3458cc7d84caf8084fc959be7b2de",
            "bb44b6c071694c0686177e5b65e35809"
          ]
        },
        "id": "gtW7f9hf3I7b",
        "outputId": "26c22a62-1f4d-4d70-ad5d-e774b4980a62"
      },
      "source": [
        "\n",
        "import ipywidgets as widgets\n",
        "\n",
        "widgets.ColorPicker(\n",
        "    concise=False,\n",
        "    description='Pick a color',\n",
        "    value='blue',\n",
        "    disabled=False\n",
        ")"
      ],
      "execution_count": 16,
      "outputs": [
        {
          "output_type": "display_data",
          "data": {
            "application/vnd.jupyter.widget-view+json": {
              "model_id": "6dd4efd931c74af28031bf0f1aabea9e",
              "version_minor": 0,
              "version_major": 2
            },
            "text/plain": [
              "ColorPicker(value='blue', description='Pick a color')"
            ]
          },
          "metadata": {
            "tags": []
          }
        }
      ]
    },
    {
      "cell_type": "markdown",
      "metadata": {
        "id": "upR3ZaC76tNV"
      },
      "source": [
        "# Copy the color code from the box and\n",
        "\n",
        "# run the next cell and paste the code "
      ]
    },
    {
      "cell_type": "code",
      "metadata": {
        "colab": {
          "base_uri": "https://localhost:8080/"
        },
        "id": "PLJQgiCX3ggu",
        "outputId": "f6fbb34d-9751-4b06-f8f3-2de73a09a468"
      },
      "source": [
        "convert(input())\n"
      ],
      "execution_count": 37,
      "outputs": [
        {
          "output_type": "stream",
          "text": [
            "45457d\n",
            "glColor3f(0.27f,0.27f,0.49f);\n"
          ],
          "name": "stdout"
        }
      ]
    },
    {
      "cell_type": "code",
      "metadata": {
        "id": "-Ec9h95C4Ljt"
      },
      "source": [
        ""
      ],
      "execution_count": null,
      "outputs": []
    }
  ]
}