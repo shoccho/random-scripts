{
 "cells": [
  {
   "cell_type": "markdown",
   "metadata": {},
   "source": [
    "#  Middle point circle drawing"
   ]
  },
  {
   "cell_type": "code",
   "execution_count": 14,
   "metadata": {},
   "outputs": [],
   "source": [
    "import matplotlib.pyplot as plt\n",
    "%matplotlib inline\n",
    "import numpy as np"
   ]
  },
  {
   "cell_type": "code",
   "execution_count": 24,
   "metadata": {},
   "outputs": [],
   "source": [
    "def circle(r):\n",
    "    px=[]\n",
    "    py=[]\n",
    "    p = 1 - r \n",
    "    x = 0\n",
    "    y = r\n",
    "    xk, yk = x, y\n",
    "    while x <= y:\n",
    "        px.append(x)\n",
    "        py.append(y)\n",
    "        if p >= 0:\n",
    "            xk+=1\n",
    "            yk-=1\n",
    "        else:\n",
    "            xk+=1\n",
    "        p=p+(2*xk+1)+((yk)*(yk)-y*y)-(yk-y)\n",
    "        x, y = xk, yk \n",
    "    return (px,py)"
   ]
  },
  {
   "cell_type": "code",
   "execution_count": 56,
   "metadata": {},
   "outputs": [],
   "source": [
    "px,py = circle(1000)\n",
    "px=np.array(px)\n",
    "py=np.array(py)\n"
   ]
  },
  {
   "cell_type": "code",
   "execution_count": 62,
   "metadata": {},
   "outputs": [
    {
     "data": {
      "image/png": "[encoded data removed]",
      "text/plain": [
       "<Figure size 432x288 with 1 Axes>"
      ]
     },
     "metadata": {
      "needs_background": "light"
     },
     "output_type": "display_data"
    }
   ],
   "source": [
    "plt.plot(px,py)\n",
    "plt.plot(px,-py)\n",
    "plt.plot(-px,py)\n",
    "plt.plot(-px,-py)\n",
    "plt.plot(py,px)\n",
    "plt.plot(-py,px)\n",
    "plt.plot(py,-px)\n",
    "plt.plot(-py,-px)\n",
    "\n",
    "plt.grid()\n",
    "# plt.xlim(-1300,1300)\n",
    "# plt.ylim(-1500,1500)\n",
    "plt.gca().set_aspect('equal', adjustable='box')\n",
    "plt.show()\n"
   ]
  },
  {
   "cell_type": "code",
   "execution_count": null,
   "metadata": {},
   "outputs": [],
   "source": [
    " "
   ]
  },
  {
   "cell_type": "code",
   "execution_count": null,
   "metadata": {},
   "outputs": [],
   "source": []
  }
 ],
 "metadata": {
  "kernelspec": {
   "display_name": "Python 3",
   "language": "python",
   "name": "python3"
  },
  "language_info": {
   "codemirror_mode": {
    "name": "ipython",
    "version": 3
   },
   "file_extension": ".py",
   "mimetype": "text/x-python",
   "name": "python",
   "nbconvert_exporter": "python",
   "pygments_lexer": "ipython3",
   "version": "3.8.5"
  }
 },
 "nbformat": 4,
 "nbformat_minor": 4
}
