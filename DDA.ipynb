{
  "nbformat": 4,
  "nbformat_minor": 0,
  "metadata": {
    "colab": {
      "name": "DDA",
      "provenance": [],
      "collapsed_sections": [],
      "authorship_tag": "ABX9TyN6hfhsEUz0gL24+9LlZz1Y",
      "include_colab_link": true
    },
    "kernelspec": {
      "name": "python3",
      "display_name": "Python 3"
    }
  },
  "cells": [
    {
      "cell_type": "markdown",
      "metadata": {
        "id": "view-in-github",
        "colab_type": "text"
      },
      "source": [
        "<a href=\"https://colab.research.google.com/github/shoccho/random-scripts/blob/master/DDA.ipynb\" target=\"_parent\"><img src=\"https://colab.research.google.com/assets/colab-badge.svg\" alt=\"Open In Colab\"/></a>"
      ]
    },
    {
      "cell_type": "code",
      "metadata": {
        "id": "DeaZrd-Qdvor",
        "colab_type": "code",
        "colab": {}
      },
      "source": [
        "import matplotlib.pyplot as plt\n",
        "%matplotlib inline"
      ],
      "execution_count": null,
      "outputs": []
    },
    {
      "cell_type": "code",
      "metadata": {
        "id": "OXNcoDMCd1v2",
        "colab_type": "code",
        "colab": {}
      },
      "source": [
        "def mkp(x):\n",
        "    if (x*10)%10 >= 5:\n",
        "        px=int(x)+1\n",
        "    else :\n",
        "        px=int(x)\n",
        "    return px\n"
      ],
      "execution_count": null,
      "outputs": []
    },
    {
      "cell_type": "code",
      "metadata": {
        "id": "XJJFPzoid8nO",
        "colab_type": "code",
        "colab": {}
      },
      "source": [
        "def showfig():\n",
        "    fig, ax = plt.subplots()\n",
        "    ax.spines[\"left\"].set_position((\"data\", 0))\n",
        "    ax.spines[\"bottom\"].set_position((\"data\", 0))\n",
        "\n",
        "    ax.spines[\"top\"].set_visible(False)\n",
        "    ax.spines[\"right\"].set_visible(False)\n",
        "\n",
        "    ax.plot(pltx,plty)\n",
        "    plt.xlim(-50, 50)\n",
        "    plt.ylim(-50, 50)\n",
        "    plt.grid()\n",
        "    plt.show()"
      ],
      "execution_count": null,
      "outputs": []
    },
    {
      "cell_type": "code",
      "metadata": {
        "id": "cWqrVPUXeBAk",
        "colab_type": "code",
        "colab": {
          "base_uri": "https://localhost:8080/",
          "height": 543
        },
        "outputId": "1e36cb6c-ffd5-466a-ad45-72e3d572a768"
      },
      "source": [
        "pltx = []\n",
        "plty = []\n",
        "sx = int(input(\"enter starting x \"))\n",
        "sy = int(input(\"enter starting y \"))\n",
        "ex = int(input(\"enter ending x \"))\n",
        "ey = int(input(\"enter ending y \"))\n",
        "x, y = sx, sy\n",
        "m = (ey-sy)/(ex-sx)\n",
        "if m <= 1:\n",
        "    dx = 1\n",
        "    dy = m\n",
        "elif m > 1:\n",
        "    dy = 1\n",
        "    dx = 1/m\n",
        "\n",
        "if sx > ex:\n",
        "    dx = dx*-1\n",
        "if sy > ey:\n",
        "    dy = dy*-1\n",
        "print(\"m={0:.2f} Dx = {1:.2f} Dy = {2:.2f} \".format(m,dx,dy))\n",
        "print(\"x\\ty\\t\\tx plot\\ty plot\\t\\t(x, y)\")\n",
        "while x != ex and y != ey:\n",
        "    px=mkp(x)\n",
        "    py=mkp(y)\n",
        "    pltx.append(px)\n",
        "    plty.append(py)\n",
        "    \n",
        "    print(\"{0}\\t{1:.2f}\\t\\t{2}\\t{3}\\t\\t({2}, {3})\".format(x,y,px,py))\n",
        "    x += dx\n",
        "    y += dy\n",
        "showfig()\n"
      ],
      "execution_count": null,
      "outputs": [
        {
          "output_type": "stream",
          "text": [
            "enter starting x 15\n",
            "enter starting y 27\n",
            "enter ending x 26\n",
            "enter ending y 33\n",
            "m=0.55 Dx = 1.00 Dy = 0.55 \n",
            "x\ty\t\tx plot\ty plot\t\t(x, y)\n",
            "15\t27.00\t\t15\t27\t\t(15, 27)\n",
            "16\t27.55\t\t16\t28\t\t(16, 28)\n",
            "17\t28.09\t\t17\t28\t\t(17, 28)\n",
            "18\t28.64\t\t18\t29\t\t(18, 29)\n",
            "19\t29.18\t\t19\t29\t\t(19, 29)\n",
            "20\t29.73\t\t20\t30\t\t(20, 30)\n",
            "21\t30.27\t\t21\t30\t\t(21, 30)\n",
            "22\t30.82\t\t22\t31\t\t(22, 31)\n",
            "23\t31.36\t\t23\t31\t\t(23, 31)\n",
            "24\t31.91\t\t24\t32\t\t(24, 32)\n",
            "25\t32.45\t\t25\t32\t\t(25, 32)\n"
          ],
          "name": "stdout"
        },
        {
          "output_type": "display_data",
          "data": {
            "image/png": "[encoded data removed]",
            "text/plain": [
              "<Figure size 432x288 with 1 Axes>"
            ]
          },
          "metadata": {
            "tags": [],
            "needs_background": "light"
          }
        }
      ]
    },
    {
      "cell_type": "code",
      "metadata": {
        "id": "kC9s0044eInn",
        "colab_type": "code",
        "colab": {}
      },
      "source": [
        ""
      ],
      "execution_count": null,
      "outputs": []
    }
  ]
}